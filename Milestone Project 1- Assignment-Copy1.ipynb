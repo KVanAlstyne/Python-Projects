{
 "cells": [
  {
   "cell_type": "markdown",
   "metadata": {},
   "source": [
    "# Milestone Project 1\n",
    "## Congratulations on making it to your first milestone!\n",
    "You've already learned a ton and are ready to work on a real project.\n",
    "\n",
    "Your assignment: Create a Tic Tac Toe game. You are free to use any IDE you like.\n",
    "\n",
    "Here are the requirements:\n",
    "\n",
    "* 2 players should be able to play the game (both sitting at the same computer)\n",
    "* The board should be printed out every time a player makes a move\n",
    "* You should be able to accept input of the player position and then place a symbol on the board\n",
    "\n",
    "Feel free to use Google to help you figure anything out (but don't just Google \"Tic Tac Toe in Python\" otherwise you won't learn anything!) Keep in mind that this project can take anywhere between several hours to several days.\n",
    "\n",
    "There are 4 Jupyter Notebooks related to this assignment:\n",
    "\n",
    "* This Assignment Notebook\n",
    "* A \"Walk-through Steps Workbook\" Notebook\n",
    "* A \"Walk-through Solution\" Notebook\n",
    "* An \"Advanced Solution\" Notebook\n",
    "\n",
    "I encourage you to just try to start the project on your own without referencing any of the notebooks. If you get stuck, check out the next lecture which is a text lecture with helpful hints and steps. If you're still stuck after that, then check out the walk-through Steps Workbook, which breaks up the project in steps for you to solve. Still stuck? Then check out the walk-through solution video for more help on approaching the project!"
   ]
  },
  {
   "cell_type": "markdown",
   "metadata": {},
   "source": [
    "There are parts of this that will be a struggle...and that is good! I have complete faith that if you have made it this far through the course you have all the tools and knowledge to tackle this project. Remember, its totally open book, so take your time, do a little research, and remember:\n",
    "\n",
    "## HAVE FUN!"
   ]
  },
  {
   "cell_type": "markdown",
   "metadata": {},
   "source": [
    "Create a list called board which will keep track of the player marker positions."
   ]
  },
  {
   "cell_type": "code",
   "execution_count": null,
   "metadata": {},
   "outputs": [],
   "source": [
    "# Use a list to store the player's marker positions (X and O), where each index corresponds \n",
    "# with a number on a keypad, which in turn corresponds with a position on the 3 by 3 board\n",
    "# The list should already be the same length as your intended board.\n",
    "\n",
    "\n"
   ]
  },
  {
   "cell_type": "code",
   "execution_count": 15,
   "metadata": {
    "scrolled": true
   },
   "outputs": [
    {
     "name": "stdout",
     "output_type": "stream",
     "text": [
      "[[1, 2, 3], [4, 5, 6], [7, 8, 9]]\n",
      "[1, 4, 7]\n"
     ]
    }
   ],
   "source": [
    "l_1 = [1,2,3]\n",
    "l_2 = [4,5,6]\n",
    "l_3 = [7,8,9]\n",
    "\n",
    "matrix = [l_1,l_2,l_3]\n",
    "\n",
    "first_col = [row[0] for row in matrix]\n",
    "\n",
    "print(matrix)\n",
    "print(first_col)"
   ]
  },
  {
   "cell_type": "code",
   "execution_count": 36,
   "metadata": {},
   "outputs": [
    {
     "data": {
      "text/plain": [
       "[1, 4, 7]"
      ]
     },
     "execution_count": 36,
     "metadata": {},
     "output_type": "execute_result"
    }
   ],
   "source": [
    "l = [(1,2,3), (4,5,6), (7,8,9)]\n",
    "first_col = [row[0] for row in l]\n",
    "l\n",
    "first_col"
   ]
  },
  {
   "cell_type": "markdown",
   "metadata": {},
   "source": [
    "Print a board."
   ]
  },
  {
   "cell_type": "code",
   "execution_count": null,
   "metadata": {},
   "outputs": [],
   "source": [
    "# Create a function that will print a board.\n",
    "# This can be done with multiple print statements within the function.\n",
    "# Think about how you would take elements from the list and print them out into the board. \n",
    "# You can also clear output in jupyter notebook with clear.output().\n",
    "# At top of cell copy and paste: from IPython.display import clear_output"
   ]
  },
  {
   "cell_type": "code",
   "execution_count": 26,
   "metadata": {},
   "outputs": [
    {
     "name": "stdout",
     "output_type": "stream",
     "text": [
      "X _ _\n",
      "_ X _\n",
      "_ _ X\n"
     ]
    }
   ],
   "source": [
    "from IPython.display import clear_output\n",
    "\n",
    "#for i in range(10):\n",
    " #   clear_output()\n",
    "  #  print(\"Hello World!\")\n",
    "\n",
    "print('X','_', '_')\n",
    "print('_','X','_')\n",
    "print('_','_','X')"
   ]
  },
  {
   "cell_type": "markdown",
   "metadata": {},
   "source": [
    "Take in player input."
   ]
  },
  {
   "cell_type": "code",
   "execution_count": null,
   "metadata": {},
   "outputs": [],
   "source": [
    "# Write a function which takes an input marker string 'X' or 'O' and a given number\n",
    "# and stores it to a list at that appendix.\n",
    "# learn how to take input in python! input()"
   ]
  },
  {
   "cell_type": "code",
   "execution_count": 68,
   "metadata": {},
   "outputs": [
    {
     "name": "stdout",
     "output_type": "stream",
     "text": [
      "['X', 2, 3, 4, 5, 'X', 2, 3, 4, 5, 'X']\n",
      "10 1\n",
      "1\n",
      "X\n"
     ]
    }
   ],
   "source": [
    "a=[1,2,3,4,5,1,2,3,4,5,1]\n",
    "original = 1\n",
    "changed = 'X'\n",
    "for n,i in enumerate(a):\n",
    "      if i==original:\n",
    "           a[n]=changed\n",
    "print(a)\n",
    "print(n,1)\n",
    "print(original)\n",
    "print(changed)\n"
   ]
  },
  {
   "cell_type": "code",
   "execution_count": 69,
   "metadata": {},
   "outputs": [
    {
     "name": "stdout",
     "output_type": "stream",
     "text": [
      "Enter original: 1\n",
      "Enter changed: X\n",
      "['X', 2, 3, 4, 5, 'X', 2, 3, 4, 5, 'X']\n",
      "1\n",
      "X\n"
     ]
    }
   ],
   "source": [
    "a=[1,2,3,4,5,1,2,3,4,5,1]\n",
    "original = int(input('Enter original: '))\n",
    "changed = input('Enter changed: ')\n",
    "\n",
    "for n,i in enumerate(a):\n",
    "      if i==original:\n",
    "           a[n]=changed\n",
    "print(a)\n",
    "print(original)\n",
    "print(changed)\n",
    "\n"
   ]
  },
  {
   "cell_type": "code",
   "execution_count": 54,
   "metadata": {},
   "outputs": [
    {
     "name": "stdout",
     "output_type": "stream",
     "text": [
      "Enter your marker: 'X'\n",
      "Enter the location: 1\n",
      "'X' 1\n",
      "[1, 2, 3]\n",
      "1\n",
      "3\n"
     ]
    }
   ],
   "source": [
    "\n",
    "matrix = [1,2,3]\n",
    "marker = input('Enter your marker: ')\n",
    "location = input('Enter the location: ')\n",
    "\n",
    "for index,item in enumerate(matrix):\n",
    "   if item == location:\n",
    "       index[matrix] = marker\n",
    "print(marker, location)\n",
    "print(matrix)\n",
    "print(location)\n",
    "print(item)"
   ]
  },
  {
   "cell_type": "markdown",
   "metadata": {},
   "source": [
    "Place their input on the board."
   ]
  },
  {
   "cell_type": "code",
   "execution_count": null,
   "metadata": {},
   "outputs": [],
   "source": [
    "# Write a function that takes in the board and a player marker"
   ]
  },
  {
   "cell_type": "markdown",
   "metadata": {},
   "source": [
    "Check if the game is won, tied, lost, or ongoing."
   ]
  },
  {
   "cell_type": "code",
   "execution_count": null,
   "metadata": {},
   "outputs": [],
   "source": [
    "# check for a win should be a series of a bunch checks, for example:\n",
    "# (board[7] == board[8] == board[9] == marker) would check the first top row if they all\n",
    "# match a players marker.\n",
    "# check for a tie means nobody won and the board list is full"
   ]
  },
  {
   "cell_type": "markdown",
   "metadata": {},
   "source": [
    "Repeat input and check steps until the game has been won or tied."
   ]
  },
  {
   "cell_type": "code",
   "execution_count": null,
   "metadata": {},
   "outputs": [],
   "source": [
    "# Write a function which starts combining and calling the different functions you've made \n",
    "# for example, a function which asks for a player's move, then updates the board,\n",
    "# then checks for a win, then prints out the board.\n",
    "# How can you keep the game going?\n",
    "#   Maybe try using a while loop\n",
    "#      something like while the board isn't full and nobody's won...\n",
    "# Think about how to use boolean objects as markers of the game's status."
   ]
  },
  {
   "cell_type": "markdown",
   "metadata": {},
   "source": [
    "Ask if players want to play again."
   ]
  },
  {
   "cell_type": "code",
   "execution_count": null,
   "metadata": {},
   "outputs": [],
   "source": []
  }
 ],
 "metadata": {
  "kernelspec": {
   "display_name": "Python 3",
   "language": "python",
   "name": "python3"
  },
  "language_info": {
   "codemirror_mode": {
    "name": "ipython",
    "version": 3
   },
   "file_extension": ".py",
   "mimetype": "text/x-python",
   "name": "python",
   "nbconvert_exporter": "python",
   "pygments_lexer": "ipython3",
   "version": "3.6.3"
  }
 },
 "nbformat": 4,
 "nbformat_minor": 1
}
